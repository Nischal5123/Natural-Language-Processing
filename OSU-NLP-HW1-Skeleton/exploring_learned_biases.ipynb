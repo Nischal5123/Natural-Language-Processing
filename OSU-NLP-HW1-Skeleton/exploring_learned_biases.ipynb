{
 "cells": [
  {
   "cell_type": "code",
   "execution_count": 1,
   "metadata": {
    "collapsed": true
   },
   "outputs": [],
   "source": [
    "import gensim.downloader\n",
    "w2v = gensim.downloader.load('word2vec-google-news-300' )"
   ]
  },
  {
   "cell_type": "code",
   "execution_count": 2,
   "outputs": [],
   "source": [
    "def analogy(a, b, c):\n",
    "    print(a+\" : \"+b+\" :: \"+c+\" : ?\")\n",
    "    print ([(w, round(c,3)) for w,c in w2v.most_similar(positive =[c,b], negative =[a])])"
   ],
   "metadata": {
    "collapsed": false,
    "pycharm": {
     "name": "#%%\n"
    }
   }
  },
  {
   "cell_type": "code",
   "execution_count": 3,
   "outputs": [
    {
     "name": "stdout",
     "output_type": "stream",
     "text": [
      "man : king :: women : ?\n",
      "[('queen', 0.483), ('queens', 0.467), ('kumaris', 0.465), ('kings', 0.456), ('womens', 0.423), ('princes', 0.418), ('Al_Anqari', 0.417), ('concubines', 0.401), ('monarch', 0.396), ('monarchy', 0.394)]\n"
     ]
    }
   ],
   "source": [
    "analogy('man','king','women')"
   ],
   "metadata": {
    "collapsed": false,
    "pycharm": {
     "name": "#%%\n"
    }
   }
  },
  {
   "cell_type": "code",
   "execution_count": 4,
   "outputs": [
    {
     "name": "stdout",
     "output_type": "stream",
     "text": [
      "jordan : basketball :: messi : ?\n",
      "[('football', 0.625), ('soccer', 0.612), ('baskeball', 0.601), ('volleyball', 0.569), ('basketbal', 0.549), ('softball', 0.527), ('basektball', 0.521), ('tennis', 0.519), ('basketall', 0.496), ('Vom_Steeg', 0.495)]\n"
     ]
    }
   ],
   "source": [
    "analogy('jordan','basketball','messi')"
   ],
   "metadata": {
    "collapsed": false,
    "pycharm": {
     "name": "#%%\n"
    }
   }
  },
  {
   "cell_type": "code",
   "execution_count": 5,
   "outputs": [
    {
     "name": "stdout",
     "output_type": "stream",
     "text": [
      "oregon : washington :: texas : ?\n",
      "[('america', 0.551), ('american', 0.54), ('dallas', 0.506), ('houston', 0.5), ('chicago', 0.494), ('washington_dc', 0.491), ('miami', 0.49), ('omaha', 0.486), ('british', 0.484), ('mexico', 0.482)]\n"
     ]
    }
   ],
   "source": [
    "analogy('oregon','washington','texas')"
   ],
   "metadata": {
    "collapsed": false,
    "pycharm": {
     "name": "#%%\n"
    }
   }
  },
  {
   "cell_type": "code",
   "execution_count": 6,
   "outputs": [
    {
     "name": "stdout",
     "output_type": "stream",
     "text": [
      "tiger : lion :: cat : ?\n",
      "[('cats', 0.543), ('dog', 0.536), ('pooch', 0.505), ('pet', 0.502), ('kitties', 0.498), ('kitten', 0.496), ('feline', 0.496), ('puppy', 0.488), ('rotweiller', 0.474), ('pup', 0.474)]\n"
     ]
    }
   ],
   "source": [
    "analogy('tiger','lion','cat')"
   ],
   "metadata": {
    "collapsed": false,
    "pycharm": {
     "name": "#%%\n"
    }
   }
  },
  {
   "cell_type": "code",
   "execution_count": 7,
   "outputs": [
    {
     "name": "stdout",
     "output_type": "stream",
     "text": [
      "us : russia :: china : ?\n",
      "[('lg', 0.483), ('poland', 0.472), ('korea', 0.47), ('prc', 0.464), ('vienna', 0.454), ('korean', 0.453), ('asia', 0.442), ('russian', 0.442), ('chinese', 0.439), ('switzerland', 0.433)]\n"
     ]
    }
   ],
   "source": [
    "analogy('us','russia','china')"
   ],
   "metadata": {
    "collapsed": false,
    "pycharm": {
     "name": "#%%\n"
    }
   }
  },
  {
   "cell_type": "code",
   "execution_count": 8,
   "outputs": [
    {
     "name": "stdout",
     "output_type": "stream",
     "text": [
      "apple : ios :: samsung : ?\n",
      "[('3gs', 0.62), ('droid_x', 0.593), ('greenpois0n', 0.593), ('dvd_burner', 0.589), ('Sony_ericsson', 0.58), ('unlock_iphone', 0.578), ('symbian', 0.578), ('CM7', 0.577), ('iphone_3gs', 0.575), ('nokia', 0.575)]\n"
     ]
    }
   ],
   "source": [
    "analogy('apple','ios','samsung')"
   ],
   "metadata": {
    "collapsed": false,
    "pycharm": {
     "name": "#%%\n"
    }
   }
  },
  {
   "cell_type": "code",
   "execution_count": 9,
   "outputs": [
    {
     "name": "stdout",
     "output_type": "stream",
     "text": [
      "pen : paper :: chalk : ?\n",
      "[('chalking', 0.397), ('unprinted', 0.358), ('chalked', 0.358), ('kraft', 0.349), ('Chalking', 0.348), ('Paper', 0.337), ('claylike', 0.336), ('They_unroll_toilet', 0.332), ('Telgi_stamp', 0.327), ('abir', 0.327)]\n"
     ]
    }
   ],
   "source": [
    "analogy('pen','paper','chalk')"
   ],
   "metadata": {
    "collapsed": false,
    "pycharm": {
     "name": "#%%\n"
    }
   }
  },
  {
   "cell_type": "code",
   "execution_count": 10,
   "outputs": [
    {
     "name": "stdout",
     "output_type": "stream",
     "text": [
      "rich : rich :: poor : ?\n",
      "[('poorer', 0.646), ('abysmal', 0.598), ('poorest', 0.595), ('lousy', 0.566), ('woeful', 0.56), ('student_Abu_Fatmah', 0.559), ('pitiful', 0.545), ('bad', 0.535), ('wretched', 0.533), ('shoddy', 0.533)]\n"
     ]
    }
   ],
   "source": [
    "analogy('rich','rich','poor')"
   ],
   "metadata": {
    "collapsed": false,
    "pycharm": {
     "name": "#%%\n"
    }
   }
  },
  {
   "cell_type": "code",
   "execution_count": 11,
   "outputs": [
    {
     "name": "stdout",
     "output_type": "stream",
     "text": [
      "poor : asians :: rich : ?\n",
      "[('watermelon_radish', 0.474), ('Melamine_nitrogen', 0.46), ('sexy_beauties', 0.458), ('vanillas', 0.457), ('blondest', 0.447), ('latinas', 0.443), ('commy', 0.442), ('aryan', 0.442), ('blonds', 0.44), ('jim_jones', 0.437)]\n"
     ]
    }
   ],
   "source": [
    "analogy('poor','asians','rich')"
   ],
   "metadata": {
    "collapsed": false,
    "pycharm": {
     "name": "#%%\n"
    }
   }
  },
  {
   "cell_type": "code",
   "execution_count": 12,
   "outputs": [
    {
     "name": "stdout",
     "output_type": "stream",
     "text": [
      "poor : asians :: rich : ?\n",
      "[('watermelon_radish', 0.474), ('Melamine_nitrogen', 0.46), ('sexy_beauties', 0.458), ('vanillas', 0.457), ('blondest', 0.447), ('latinas', 0.443), ('commy', 0.442), ('aryan', 0.442), ('blonds', 0.44), ('jim_jones', 0.437)]\n"
     ]
    }
   ],
   "source": [
    "analogy('poor','asians','rich')"
   ],
   "metadata": {
    "collapsed": false,
    "pycharm": {
     "name": "#%%\n"
    }
   }
  },
  {
   "cell_type": "code",
   "execution_count": 13,
   "outputs": [
    {
     "name": "stdout",
     "output_type": "stream",
     "text": [
      "men : basketball :: women : ?\n",
      "[('volleyball', 0.645), ('baskeball', 0.625), ('basektball', 0.617), ('softball', 0.607), ('basketbal', 0.595), ('soccer', 0.578), ('hoops', 0.577), ('WNBA', 0.568), ('tennis', 0.565), ('basketall', 0.564)]\n"
     ]
    }
   ],
   "source": [
    "analogy('men','basketball','women')"
   ],
   "metadata": {
    "collapsed": false,
    "pycharm": {
     "name": "#%%\n"
    }
   }
  },
  {
   "cell_type": "code",
   "execution_count": 14,
   "outputs": [
    {
     "name": "stdout",
     "output_type": "stream",
     "text": [
      "women : basketball :: men : ?\n",
      "[('baskeball', 0.661), ('football', 0.63), ('basketbal', 0.583), ('baseball', 0.576), ('basektball', 0.561), ('hoopsters', 0.554), ('hoops', 0.552), ('roundball', 0.55), ('bas_ketball', 0.55), ('Basketball', 0.549)]\n"
     ]
    }
   ],
   "source": [
    "analogy('women','basketball','men')"
   ],
   "metadata": {
    "collapsed": false,
    "pycharm": {
     "name": "#%%\n"
    }
   }
  },
  {
   "cell_type": "code",
   "execution_count": null,
   "outputs": [],
   "source": [],
   "metadata": {
    "collapsed": false,
    "pycharm": {
     "name": "#%%\n"
    }
   }
  }
 ],
 "metadata": {
  "kernelspec": {
   "display_name": "Python 3",
   "language": "python",
   "name": "python3"
  },
  "language_info": {
   "codemirror_mode": {
    "name": "ipython",
    "version": 2
   },
   "file_extension": ".py",
   "mimetype": "text/x-python",
   "name": "python",
   "nbconvert_exporter": "python",
   "pygments_lexer": "ipython2",
   "version": "2.7.6"
  }
 },
 "nbformat": 4,
 "nbformat_minor": 0
}