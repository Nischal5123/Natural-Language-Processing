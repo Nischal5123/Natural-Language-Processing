{
 "cells": [
  {
   "cell_type": "code",
   "execution_count": 13,
   "metadata": {
    "collapsed": true
   },
   "outputs": [],
   "source": [
    "from torchtext.legacy import data\n",
    "from torchtext.legacy import datasets\n",
    "import matplotlib.pyplot as plt\n",
    "#Loading the UD En POS benchmark: https://pytorch.org/text/stable/datasets.html#udpos\n"
   ]
  },
  {
   "cell_type": "code",
   "execution_count": 3,
   "outputs": [],
   "source": [
    "def visualizeSentenceWithTags(example):\n",
    "    print(\"Token\"+\"\".join([\" \"]*(15))+\"POS Tag\")\n",
    "    print(\"---------------------------------\")\n",
    "    for w, t in zip(example['text'], example['udtags']):\n",
    "        print(w+\"\".join([\" \"]*(20- len(w)))+t)"
   ],
   "metadata": {
    "collapsed": false,
    "pycharm": {
     "name": "#%%\n"
    }
   }
  },
  {
   "cell_type": "code",
   "execution_count": 4,
   "outputs": [],
   "source": [
    "TEXT = data.Field(lower = True)\n",
    "UD_TAGS = data.Field(unk_token = None)\n",
    "fields = ((\"text\", TEXT), (\"udtags\", UD_TAGS))\n",
    "train_data , valid_data , test_data = datasets.UDPOS.splits(fields)"
   ],
   "metadata": {
    "collapsed": false,
    "pycharm": {
     "name": "#%%\n"
    }
   }
  },
  {
   "cell_type": "code",
   "execution_count": 8,
   "outputs": [
    {
     "name": "stdout",
     "output_type": "stream",
     "text": [
      "['al', '-', 'zaman', ':', 'american', 'forces', 'killed', 'shaikh', 'abdullah', 'al', '-', 'ani', ',', 'the', 'preacher', 'at', 'the', 'mosque', 'in', 'the', 'town', 'of', 'qaim', ',', 'near', 'the', 'syrian', 'border', '.']\n",
      "['PROPN', 'PUNCT', 'PROPN', 'PUNCT', 'ADJ', 'NOUN', 'VERB', 'PROPN', 'PROPN', 'PROPN', 'PUNCT', 'PROPN', 'PUNCT', 'DET', 'NOUN', 'ADP', 'DET', 'NOUN', 'ADP', 'DET', 'NOUN', 'ADP', 'PROPN', 'PUNCT', 'ADP', 'DET', 'ADJ', 'NOUN', 'PUNCT']\n",
      "['dpa', ':', 'iraqi', 'authorities', 'announced', 'that', 'they', 'had', 'busted', 'up', '3', 'terrorist', 'cells', 'operating', 'in', 'baghdad', '.']\n",
      "['PROPN', 'PUNCT', 'ADJ', 'NOUN', 'VERB', 'SCONJ', 'PRON', 'AUX', 'VERB', 'ADP', 'NUM', 'ADJ', 'NOUN', 'VERB', 'ADP', 'PROPN', 'PUNCT']\n",
      "['if', 'he', 'or', 'she', 'did', 'not', ',', 'then', 'they', 'should', 'have', 'all', 'the', 'same', 'rights', 'as', 'other', 'iraqis', '.']\n",
      "['SCONJ', 'PRON', 'CCONJ', 'PRON', 'VERB', 'PART', 'PUNCT', 'ADV', 'PRON', 'AUX', 'VERB', 'DET', 'DET', 'ADJ', 'NOUN', 'ADP', 'ADJ', 'PROPN', 'PUNCT']\n",
      "['http://www.physics.isu.edu/radinf/chern.htm']\n",
      "['X']\n",
      "['http://www.arps.org.au/chernobyl.htm']\n",
      "['X']\n",
      "['they', 'do', \"n't\", 'let', 'just', 'anybody', 'do', 'it', '.']\n",
      "['PRON', 'AUX', 'PART', 'VERB', 'ADV', 'PRON', 'VERB', 'PRON', 'PUNCT']\n",
      "['select', 'enrononline', '(', 'this', 'is', 'the', 'eol', 'datamanager', ')']\n",
      "['VERB', 'PROPN', 'PUNCT', 'PRON', 'AUX', 'DET', 'PROPN', 'NOUN', 'PUNCT']\n",
      "['i', 'will', 'never', 'return', 'there', 'again', '(', 'and', 'now', 'have', 'some', 'serious', 'doubts', 'about', 'the', 'quality', 'of', 'work', 'they', 'actually', 'performed', 'on', 'my', 'car', ')', '.']\n",
      "['PRON', 'AUX', 'ADV', 'VERB', 'ADV', 'ADV', 'PUNCT', 'CCONJ', 'ADV', 'VERB', 'DET', 'ADJ', 'NOUN', 'ADP', 'DET', 'NOUN', 'ADP', 'NOUN', 'PRON', 'ADV', 'VERB', 'ADP', 'PRON', 'NOUN', 'PUNCT', 'PUNCT']\n"
     ]
    }
   ],
   "source": [
    "for idx, sentence in enumerate(train_data.examples):\n",
    "    if (len(train_data.examples)%(idx+1)) ==0:\n",
    "        print(vars(sentence)['text'])\n",
    "        print(vars(sentence)['udtags'])"
   ],
   "metadata": {
    "collapsed": false,
    "pycharm": {
     "name": "#%%\n"
    }
   }
  },
  {
   "cell_type": "code",
   "execution_count": 9,
   "outputs": [],
   "source": [
    "tag_count={}\n",
    "for idx, sentence in enumerate(train_data.examples):\n",
    "        for tag in (vars(sentence)['udtags']):\n",
    "                tag_count[tag] = tag_count.get(tag, 0) + 1"
   ],
   "metadata": {
    "collapsed": false,
    "pycharm": {
     "name": "#%%\n"
    }
   }
  },
  {
   "cell_type": "code",
   "execution_count": 25,
   "outputs": [
    {
     "data": {
      "text/plain": "<Figure size 800x560 with 1 Axes>",
      "image/png": "[encoded data removed]"
     },
     "metadata": {},
     "output_type": "display_data"
    }
   ],
   "source": [
    "plt.figure(figsize=(10, 7), dpi=80)\n",
    "plt.bar(list(tag_count.keys()), tag_count.values(), color='b')\n",
    "plt.show()"
   ],
   "metadata": {
    "collapsed": false,
    "pycharm": {
     "name": "#%%\n"
    }
   }
  },
  {
   "cell_type": "code",
   "execution_count": 24,
   "outputs": [
    {
     "data": {
      "text/plain": "0.16999095818772758"
     },
     "execution_count": 24,
     "metadata": {},
     "output_type": "execute_result"
    }
   ],
   "source": [
    "tag_count['NOUN']/sum(tag_count.values())"
   ],
   "metadata": {
    "collapsed": false,
    "pycharm": {
     "name": "#%%\n"
    }
   }
  },
  {
   "cell_type": "code",
   "execution_count": null,
   "outputs": [],
   "source": [],
   "metadata": {
    "collapsed": false,
    "pycharm": {
     "name": "#%%\n"
    }
   }
  }
 ],
 "metadata": {
  "kernelspec": {
   "display_name": "Python 3",
   "language": "python",
   "name": "python3"
  },
  "language_info": {
   "codemirror_mode": {
    "name": "ipython",
    "version": 2
   },
   "file_extension": ".py",
   "mimetype": "text/x-python",
   "name": "python",
   "nbconvert_exporter": "python",
   "pygments_lexer": "ipython2",
   "version": "2.7.6"
  }
 },
 "nbformat": 4,
 "nbformat_minor": 0
}